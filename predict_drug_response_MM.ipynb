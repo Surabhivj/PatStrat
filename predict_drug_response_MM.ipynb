{
 "cells": [
  {
   "cell_type": "code",
   "execution_count": 2,
   "metadata": {},
   "outputs": [],
   "source": [
    "import numpy as np\n",
    "import pandas as pd\n",
    "import networkx as nx\n",
    "from sklearn.preprocessing import StandardScaler\n",
    "from sklearn.model_selection import train_test_split\n",
    "from sklearn.ensemble import RandomForestClassifier\n",
    "from sklearn.metrics import roc_auc_score\n",
    "import torch\n",
    "from torch_geometric.nn import Node2Vec\n",
    "from torch_geometric.utils import from_networkx\n",
    "from sklearn.linear_model import LinearRegression\n",
    "from sklearn.metrics import mean_squared_error, r2_score"
   ]
  },
  {
   "cell_type": "markdown",
   "metadata": {},
   "source": [
    "## Prepare Data"
   ]
  },
  {
   "cell_type": "code",
   "execution_count": 52,
   "metadata": {},
   "outputs": [],
   "source": [
    "import matplotlib.pyplot as plt\n",
    "import networkx as nx\n",
    "\n",
    "# Initialize the graph\n",
    "G = nx.DiGraph()\n",
    "\n",
    "# Define the layers and number of nodes\n",
    "layers = {\n",
    "    'Input': 5,\n",
    "    'Hidden': 4,\n",
    "    'Output': 3\n",
    "}\n",
    "\n",
    "# Assign positions for each node in each layer\n",
    "pos = {}\n",
    "layer_names = list(layers.keys())\n",
    "layer_positions = {layer: i for i, layer in enumerate(layer_names)}\n",
    "\n",
    "# Place nodes in the graph\n",
    "for layer, num_nodes in layers.items():\n",
    "    for i in range(num_nodes):\n",
    "        pos[f\"{layer}_{i}\"] = (layer_positions[layer], num_nodes - i - 1)\n",
    "\n",
    "# Add edges between layers (fully connected)\n",
    "for i in range(layers['Input']):\n",
    "    for j in range(layers['Hidden']):\n",
    "        G.add_edge(f\"Input_{i}\", f\"Hidden_{j}\")\n",
    "\n",
    "for i in range(layers['Hidden']):\n",
    "    for j in range(layers['Output']):\n",
    "        G\n"
   ]
  },
  {
   "cell_type": "code",
   "execution_count": 36,
   "metadata": {},
   "outputs": [
    {
     "name": "stdout",
     "output_type": "stream",
     "text": [
      "5663\n",
      "4757\n"
     ]
    }
   ],
   "source": [
    "CD138Cells_Proteomics = pd.read_csv(\"/Users/SJp/Documents/Projects/PatStrat/data/CD138Cells_Proteomics.csv\")\n",
    "\n",
    "print(len(CD138Cells_Proteomics))\n",
    "# Split the 'values' column by '|'\n",
    "CD138Cells_Proteomics['ID'] = CD138Cells_Proteomics['ID'].str.split('|')\n",
    "\n",
    "# Use explode to split lists into separate rows\n",
    "CD138Cells_Proteomics = CD138Cells_Proteomics.explode('ID').reset_index(drop=True)\n",
    "CD138Cells_Proteomics.dropna(inplace=True)\n",
    "CD138Cells_Proteomics.reset_index(inplace=True, drop=True)\n",
    "\n"
   ]
  },
  {
   "cell_type": "code",
   "execution_count": 41,
   "metadata": {},
   "outputs": [
    {
     "data": {
      "text/html": [
       "<div>\n",
       "<style scoped>\n",
       "    .dataframe tbody tr th:only-of-type {\n",
       "        vertical-align: middle;\n",
       "    }\n",
       "\n",
       "    .dataframe tbody tr th {\n",
       "        vertical-align: top;\n",
       "    }\n",
       "\n",
       "    .dataframe thead th {\n",
       "        text-align: right;\n",
       "    }\n",
       "</style>\n",
       "<table border=\"1\" class=\"dataframe\">\n",
       "  <thead>\n",
       "    <tr style=\"text-align: right;\">\n",
       "      <th>ID</th>\n",
       "      <th>Diagnosis</th>\n",
       "      <th>Prior_Treatment_Lines_simplified</th>\n",
       "      <th>Treatment_stage</th>\n",
       "      <th>Age_At_Sampling</th>\n",
       "      <th>Deceased</th>\n",
       "      <th>Gender</th>\n",
       "      <th>Kap_Lam_clonality</th>\n",
       "      <th>Ig_Subtype</th>\n",
       "      <th>Clonality</th>\n",
       "      <th>Pathology</th>\n",
       "      <th>...</th>\n",
       "      <th>Prior_Immunotherapy</th>\n",
       "      <th>Prior_AlloTPL</th>\n",
       "      <th>Prior_Number_of_Treatment_Lines</th>\n",
       "      <th>PhenoGroups</th>\n",
       "      <th>%_Myeloma_cells_by_PCY</th>\n",
       "      <th>%_SmallPlasma_cells_by_PCY</th>\n",
       "      <th>%_Plasma_cells_by_PCY</th>\n",
       "      <th>%_M0_cells_by_PCY</th>\n",
       "      <th>%_Other_cells_by_PCY</th>\n",
       "      <th>%_T3_cells_by_PCY</th>\n",
       "    </tr>\n",
       "  </thead>\n",
       "  <tbody>\n",
       "    <tr>\n",
       "      <th>MM001</th>\n",
       "      <td>Plasma cell myeloma</td>\n",
       "      <td>3+</td>\n",
       "      <td>treatment control</td>\n",
       "      <td>72</td>\n",
       "      <td>1</td>\n",
       "      <td>m</td>\n",
       "      <td>Kappa</td>\n",
       "      <td>IgG-Kappa</td>\n",
       "      <td>not clonal</td>\n",
       "      <td>NaN</td>\n",
       "      <td>...</td>\n",
       "      <td>NaN</td>\n",
       "      <td>NaN</td>\n",
       "      <td>3</td>\n",
       "      <td>na</td>\n",
       "      <td>NaN</td>\n",
       "      <td>NaN</td>\n",
       "      <td>NaN</td>\n",
       "      <td>NaN</td>\n",
       "      <td>NaN</td>\n",
       "      <td>NaN</td>\n",
       "    </tr>\n",
       "    <tr>\n",
       "      <th>MM002</th>\n",
       "      <td>Plasma cell myeloma</td>\n",
       "      <td>1</td>\n",
       "      <td>treatment control</td>\n",
       "      <td>63</td>\n",
       "      <td>0</td>\n",
       "      <td>f</td>\n",
       "      <td>Kappa</td>\n",
       "      <td>IgG-Kappa</td>\n",
       "      <td>clonal</td>\n",
       "      <td>35</td>\n",
       "      <td>...</td>\n",
       "      <td>0</td>\n",
       "      <td>0</td>\n",
       "      <td>1</td>\n",
       "      <td>na</td>\n",
       "      <td>NaN</td>\n",
       "      <td>NaN</td>\n",
       "      <td>NaN</td>\n",
       "      <td>NaN</td>\n",
       "      <td>NaN</td>\n",
       "      <td>NaN</td>\n",
       "    </tr>\n",
       "    <tr>\n",
       "      <th>MM003</th>\n",
       "      <td>Plasma cell myeloma</td>\n",
       "      <td>0</td>\n",
       "      <td>untreated</td>\n",
       "      <td>75</td>\n",
       "      <td>1</td>\n",
       "      <td>m</td>\n",
       "      <td>Kappa</td>\n",
       "      <td>IgG-Kappa</td>\n",
       "      <td>clonal</td>\n",
       "      <td>45</td>\n",
       "      <td>...</td>\n",
       "      <td>0</td>\n",
       "      <td>0</td>\n",
       "      <td>0</td>\n",
       "      <td>na</td>\n",
       "      <td>NaN</td>\n",
       "      <td>NaN</td>\n",
       "      <td>NaN</td>\n",
       "      <td>NaN</td>\n",
       "      <td>NaN</td>\n",
       "      <td>NaN</td>\n",
       "    </tr>\n",
       "    <tr>\n",
       "      <th>MM004</th>\n",
       "      <td>Plasma cell myeloma</td>\n",
       "      <td>1</td>\n",
       "      <td>relapse/progress</td>\n",
       "      <td>67</td>\n",
       "      <td>0</td>\n",
       "      <td>m</td>\n",
       "      <td>Kappa</td>\n",
       "      <td>IgG-Kappa</td>\n",
       "      <td>clonal</td>\n",
       "      <td>25</td>\n",
       "      <td>...</td>\n",
       "      <td>0</td>\n",
       "      <td>0</td>\n",
       "      <td>1</td>\n",
       "      <td>na</td>\n",
       "      <td>NaN</td>\n",
       "      <td>NaN</td>\n",
       "      <td>NaN</td>\n",
       "      <td>NaN</td>\n",
       "      <td>NaN</td>\n",
       "      <td>NaN</td>\n",
       "    </tr>\n",
       "    <tr>\n",
       "      <th>MM005</th>\n",
       "      <td>Plasma cell myeloma</td>\n",
       "      <td>0</td>\n",
       "      <td>relapse/progress</td>\n",
       "      <td>72</td>\n",
       "      <td>0</td>\n",
       "      <td>m</td>\n",
       "      <td>Kappa</td>\n",
       "      <td>IgA-Kappa</td>\n",
       "      <td>clonal</td>\n",
       "      <td>45</td>\n",
       "      <td>...</td>\n",
       "      <td>0</td>\n",
       "      <td>0</td>\n",
       "      <td>0</td>\n",
       "      <td>na</td>\n",
       "      <td>NaN</td>\n",
       "      <td>NaN</td>\n",
       "      <td>NaN</td>\n",
       "      <td>NaN</td>\n",
       "      <td>NaN</td>\n",
       "      <td>NaN</td>\n",
       "    </tr>\n",
       "    <tr>\n",
       "      <th>...</th>\n",
       "      <td>...</td>\n",
       "      <td>...</td>\n",
       "      <td>...</td>\n",
       "      <td>...</td>\n",
       "      <td>...</td>\n",
       "      <td>...</td>\n",
       "      <td>...</td>\n",
       "      <td>...</td>\n",
       "      <td>...</td>\n",
       "      <td>...</td>\n",
       "      <td>...</td>\n",
       "      <td>...</td>\n",
       "      <td>...</td>\n",
       "      <td>...</td>\n",
       "      <td>...</td>\n",
       "      <td>...</td>\n",
       "      <td>...</td>\n",
       "      <td>...</td>\n",
       "      <td>...</td>\n",
       "      <td>...</td>\n",
       "      <td>...</td>\n",
       "    </tr>\n",
       "    <tr>\n",
       "      <th>MM144</th>\n",
       "      <td>Plasma cell leukemia</td>\n",
       "      <td>1</td>\n",
       "      <td>relapse/progress</td>\n",
       "      <td>62</td>\n",
       "      <td>0</td>\n",
       "      <td>m</td>\n",
       "      <td>Kappa</td>\n",
       "      <td>IgA-Kappa</td>\n",
       "      <td>clonal</td>\n",
       "      <td>50</td>\n",
       "      <td>...</td>\n",
       "      <td>0</td>\n",
       "      <td>1</td>\n",
       "      <td>1</td>\n",
       "      <td>na</td>\n",
       "      <td>0.85</td>\n",
       "      <td>10.4</td>\n",
       "      <td>11.26</td>\n",
       "      <td>3.86</td>\n",
       "      <td>68.68</td>\n",
       "      <td>16.21</td>\n",
       "    </tr>\n",
       "    <tr>\n",
       "      <th>MM145</th>\n",
       "      <td>Plasma cell myeloma</td>\n",
       "      <td>0</td>\n",
       "      <td>treatment control</td>\n",
       "      <td>46</td>\n",
       "      <td>0</td>\n",
       "      <td>m</td>\n",
       "      <td>Kappa</td>\n",
       "      <td>IgG-Kappa</td>\n",
       "      <td>clonal</td>\n",
       "      <td>31</td>\n",
       "      <td>...</td>\n",
       "      <td>NaN</td>\n",
       "      <td>NaN</td>\n",
       "      <td>NaN</td>\n",
       "      <td>na</td>\n",
       "      <td>NaN</td>\n",
       "      <td>NaN</td>\n",
       "      <td>NaN</td>\n",
       "      <td>NaN</td>\n",
       "      <td>NaN</td>\n",
       "      <td>NaN</td>\n",
       "    </tr>\n",
       "    <tr>\n",
       "      <th>MM146</th>\n",
       "      <td>Plasma cell myeloma</td>\n",
       "      <td>0</td>\n",
       "      <td>untreated</td>\n",
       "      <td>61</td>\n",
       "      <td>0</td>\n",
       "      <td>m</td>\n",
       "      <td>Kappa</td>\n",
       "      <td>IgG-Kappa</td>\n",
       "      <td>clonal</td>\n",
       "      <td>20</td>\n",
       "      <td>...</td>\n",
       "      <td>0</td>\n",
       "      <td>0</td>\n",
       "      <td>0</td>\n",
       "      <td>na</td>\n",
       "      <td>NaN</td>\n",
       "      <td>NaN</td>\n",
       "      <td>NaN</td>\n",
       "      <td>NaN</td>\n",
       "      <td>NaN</td>\n",
       "      <td>NaN</td>\n",
       "    </tr>\n",
       "    <tr>\n",
       "      <th>MM147</th>\n",
       "      <td>Plasma cell myeloma</td>\n",
       "      <td>0</td>\n",
       "      <td>untreated</td>\n",
       "      <td>49</td>\n",
       "      <td>0</td>\n",
       "      <td>m</td>\n",
       "      <td>Kappa</td>\n",
       "      <td>IgG-Kappa</td>\n",
       "      <td>clonal</td>\n",
       "      <td>80</td>\n",
       "      <td>...</td>\n",
       "      <td>0</td>\n",
       "      <td>0</td>\n",
       "      <td>0</td>\n",
       "      <td>na</td>\n",
       "      <td>NaN</td>\n",
       "      <td>NaN</td>\n",
       "      <td>NaN</td>\n",
       "      <td>NaN</td>\n",
       "      <td>NaN</td>\n",
       "      <td>NaN</td>\n",
       "    </tr>\n",
       "    <tr>\n",
       "      <th>Unnamed: 139</th>\n",
       "      <td>NaN</td>\n",
       "      <td>NaN</td>\n",
       "      <td>NaN</td>\n",
       "      <td>NaN</td>\n",
       "      <td>NaN</td>\n",
       "      <td>NaN</td>\n",
       "      <td>NaN</td>\n",
       "      <td>NaN</td>\n",
       "      <td>NaN</td>\n",
       "      <td>NaN</td>\n",
       "      <td>...</td>\n",
       "      <td>NaN</td>\n",
       "      <td>NaN</td>\n",
       "      <td>NaN</td>\n",
       "      <td>NaN</td>\n",
       "      <td>NaN</td>\n",
       "      <td>NaN</td>\n",
       "      <td>NaN</td>\n",
       "      <td>NaN</td>\n",
       "      <td>NaN</td>\n",
       "      <td>NaN</td>\n",
       "    </tr>\n",
       "  </tbody>\n",
       "</table>\n",
       "<p>139 rows × 39 columns</p>\n",
       "</div>"
      ],
      "text/plain": [
       "ID                       Diagnosis Prior_Treatment_Lines_simplified  \\\n",
       "MM001          Plasma cell myeloma                               3+   \n",
       "MM002          Plasma cell myeloma                                1   \n",
       "MM003          Plasma cell myeloma                                0   \n",
       "MM004          Plasma cell myeloma                                1   \n",
       "MM005          Plasma cell myeloma                                0   \n",
       "...                            ...                              ...   \n",
       "MM144         Plasma cell leukemia                                1   \n",
       "MM145          Plasma cell myeloma                                0   \n",
       "MM146          Plasma cell myeloma                                0   \n",
       "MM147          Plasma cell myeloma                                0   \n",
       "Unnamed: 139                   NaN                              NaN   \n",
       "\n",
       "ID              Treatment_stage Age_At_Sampling Deceased Gender  \\\n",
       "MM001         treatment control              72        1      m   \n",
       "MM002         treatment control              63        0      f   \n",
       "MM003                 untreated              75        1      m   \n",
       "MM004          relapse/progress              67        0      m   \n",
       "MM005          relapse/progress              72        0      m   \n",
       "...                         ...             ...      ...    ...   \n",
       "MM144          relapse/progress              62        0      m   \n",
       "MM145         treatment control              46        0      m   \n",
       "MM146                 untreated              61        0      m   \n",
       "MM147                 untreated              49        0      m   \n",
       "Unnamed: 139                NaN             NaN      NaN    NaN   \n",
       "\n",
       "ID           Kap_Lam_clonality Ig_Subtype   Clonality Pathology  ...  \\\n",
       "MM001                    Kappa  IgG-Kappa  not clonal       NaN  ...   \n",
       "MM002                    Kappa  IgG-Kappa      clonal        35  ...   \n",
       "MM003                    Kappa  IgG-Kappa      clonal        45  ...   \n",
       "MM004                    Kappa  IgG-Kappa      clonal        25  ...   \n",
       "MM005                    Kappa  IgA-Kappa      clonal        45  ...   \n",
       "...                        ...        ...         ...       ...  ...   \n",
       "MM144                    Kappa  IgA-Kappa      clonal        50  ...   \n",
       "MM145                    Kappa  IgG-Kappa      clonal        31  ...   \n",
       "MM146                    Kappa  IgG-Kappa      clonal        20  ...   \n",
       "MM147                    Kappa  IgG-Kappa      clonal        80  ...   \n",
       "Unnamed: 139               NaN        NaN         NaN       NaN  ...   \n",
       "\n",
       "ID           Prior_Immunotherapy Prior_AlloTPL  \\\n",
       "MM001                        NaN           NaN   \n",
       "MM002                          0             0   \n",
       "MM003                          0             0   \n",
       "MM004                          0             0   \n",
       "MM005                          0             0   \n",
       "...                          ...           ...   \n",
       "MM144                          0             1   \n",
       "MM145                        NaN           NaN   \n",
       "MM146                          0             0   \n",
       "MM147                          0             0   \n",
       "Unnamed: 139                 NaN           NaN   \n",
       "\n",
       "ID           Prior_Number_of_Treatment_Lines PhenoGroups  \\\n",
       "MM001                                      3          na   \n",
       "MM002                                      1          na   \n",
       "MM003                                      0          na   \n",
       "MM004                                      1          na   \n",
       "MM005                                      0          na   \n",
       "...                                      ...         ...   \n",
       "MM144                                      1          na   \n",
       "MM145                                    NaN          na   \n",
       "MM146                                      0          na   \n",
       "MM147                                      0          na   \n",
       "Unnamed: 139                             NaN         NaN   \n",
       "\n",
       "ID           %_Myeloma_cells_by_PCY %_SmallPlasma_cells_by_PCY  \\\n",
       "MM001                           NaN                        NaN   \n",
       "MM002                           NaN                        NaN   \n",
       "MM003                           NaN                        NaN   \n",
       "MM004                           NaN                        NaN   \n",
       "MM005                           NaN                        NaN   \n",
       "...                             ...                        ...   \n",
       "MM144                          0.85                       10.4   \n",
       "MM145                           NaN                        NaN   \n",
       "MM146                           NaN                        NaN   \n",
       "MM147                           NaN                        NaN   \n",
       "Unnamed: 139                    NaN                        NaN   \n",
       "\n",
       "ID           %_Plasma_cells_by_PCY %_M0_cells_by_PCY %_Other_cells_by_PCY  \\\n",
       "MM001                          NaN               NaN                  NaN   \n",
       "MM002                          NaN               NaN                  NaN   \n",
       "MM003                          NaN               NaN                  NaN   \n",
       "MM004                          NaN               NaN                  NaN   \n",
       "MM005                          NaN               NaN                  NaN   \n",
       "...                            ...               ...                  ...   \n",
       "MM144                        11.26              3.86                68.68   \n",
       "MM145                          NaN               NaN                  NaN   \n",
       "MM146                          NaN               NaN                  NaN   \n",
       "MM147                          NaN               NaN                  NaN   \n",
       "Unnamed: 139                   NaN               NaN                  NaN   \n",
       "\n",
       "ID           %_T3_cells_by_PCY  \n",
       "MM001                      NaN  \n",
       "MM002                      NaN  \n",
       "MM003                      NaN  \n",
       "MM004                      NaN  \n",
       "MM005                      NaN  \n",
       "...                        ...  \n",
       "MM144                    16.21  \n",
       "MM145                      NaN  \n",
       "MM146                      NaN  \n",
       "MM147                      NaN  \n",
       "Unnamed: 139               NaN  \n",
       "\n",
       "[139 rows x 39 columns]"
      ]
     },
     "execution_count": 41,
     "metadata": {},
     "output_type": "execute_result"
    }
   ],
   "source": [
    "clinical = pd.read_csv(\"/Users/SJp/Documents/Projects/PatStrat/data/Clinical.csv\", index_col=0).transpose()\n",
    "clinical"
   ]
  },
  {
   "cell_type": "code",
   "execution_count": 51,
   "metadata": {},
   "outputs": [
    {
     "data": {
      "text/plain": [
       "{'control after allo-TPL',\n",
       " nan,\n",
       " 'relapse/progress',\n",
       " 'treatment control',\n",
       " 'untreated'}"
      ]
     },
     "execution_count": 51,
     "metadata": {},
     "output_type": "execute_result"
    }
   ],
   "source": [
    "set(clinical['Treatment_stage'])"
   ]
  },
  {
   "cell_type": "code",
   "execution_count": 44,
   "metadata": {},
   "outputs": [
    {
     "data": {
      "text/plain": [
       "139"
      ]
     },
     "execution_count": 44,
     "metadata": {},
     "output_type": "execute_result"
    }
   ],
   "source": [
    "total_Samples = len(clinical)\n",
    "total_Samples"
   ]
  },
  {
   "cell_type": "code",
   "execution_count": 45,
   "metadata": {},
   "outputs": [
    {
     "data": {
      "text/plain": [
       "44"
      ]
     },
     "execution_count": 45,
     "metadata": {},
     "output_type": "execute_result"
    }
   ],
   "source": [
    "placebo_samples = clinical[clinical['Treatment_stage']=='treatment control']\n",
    "len(placebo_samples)"
   ]
  },
  {
   "cell_type": "code",
   "execution_count": 46,
   "metadata": {},
   "outputs": [
    {
     "data": {
      "text/plain": [
       "38"
      ]
     },
     "execution_count": 46,
     "metadata": {},
     "output_type": "execute_result"
    }
   ],
   "source": [
    "untreated_samples = clinical[clinical['Treatment_stage']=='untreated']\n",
    "len(untreated_samples)\n"
   ]
  },
  {
   "cell_type": "code",
   "execution_count": 47,
   "metadata": {},
   "outputs": [
    {
     "data": {
      "text/plain": [
       "40"
      ]
     },
     "execution_count": 47,
     "metadata": {},
     "output_type": "execute_result"
    }
   ],
   "source": [
    "in_treatment = clinical[clinical['Treatment_stage']=='relapse/progress']\n",
    "len(in_treatment)"
   ]
  },
  {
   "cell_type": "code",
   "execution_count": 50,
   "metadata": {},
   "outputs": [
    {
     "data": {
      "text/plain": [
       "16"
      ]
     },
     "execution_count": 50,
     "metadata": {},
     "output_type": "execute_result"
    }
   ],
   "source": [
    "ctrl_after_treatment = clinical[clinical['Treatment_stage']=='control after allo-TPL']\n",
    "len(ctrl_after_treatment)"
   ]
  },
  {
   "cell_type": "code",
   "execution_count": 49,
   "metadata": {},
   "outputs": [
    {
     "data": {
      "text/plain": [
       "{'control after allo-TPL',\n",
       " nan,\n",
       " 'relapse/progress',\n",
       " 'treatment control',\n",
       " 'untreated'}"
      ]
     },
     "execution_count": 49,
     "metadata": {},
     "output_type": "execute_result"
    }
   ],
   "source": [
    "\n",
    "\n",
    "\n"
   ]
  },
  {
   "cell_type": "code",
   "execution_count": 2,
   "metadata": {},
   "outputs": [],
   "source": [
    "# Step 1: Data Preparation\n",
    "data = {\n",
    "    'patient_id': range(100),\n",
    "    'feature1': np.random.rand(100),\n",
    "    'feature2': np.random.rand(100),\n",
    "    'treatment_line': np.random.choice(['line1', 'line2'], 100),\n",
    "    'drug_response': np.random.rand(100) * 100\n",
    "}\n",
    "df = pd.DataFrame(data)\n",
    "\n",
    "# Preprocess data\n",
    "scaler = StandardScaler()\n",
    "df[['feature1', 'feature2']] = scaler.fit_transform(df[['feature1', 'feature2']])\n"
   ]
  },
  {
   "cell_type": "code",
   "execution_count": 7,
   "metadata": {},
   "outputs": [
    {
     "data": {
      "text/html": [
       "<div>\n",
       "<style scoped>\n",
       "    .dataframe tbody tr th:only-of-type {\n",
       "        vertical-align: middle;\n",
       "    }\n",
       "\n",
       "    .dataframe tbody tr th {\n",
       "        vertical-align: top;\n",
       "    }\n",
       "\n",
       "    .dataframe thead th {\n",
       "        text-align: right;\n",
       "    }\n",
       "</style>\n",
       "<table border=\"1\" class=\"dataframe\">\n",
       "  <thead>\n",
       "    <tr style=\"text-align: right;\">\n",
       "      <th></th>\n",
       "      <th>patient_id</th>\n",
       "      <th>feature1</th>\n",
       "      <th>feature2</th>\n",
       "      <th>treatment_line</th>\n",
       "      <th>drug_response</th>\n",
       "    </tr>\n",
       "  </thead>\n",
       "  <tbody>\n",
       "    <tr>\n",
       "      <th>0</th>\n",
       "      <td>0</td>\n",
       "      <td>-1.629874</td>\n",
       "      <td>-1.416849</td>\n",
       "      <td>line2</td>\n",
       "      <td>12.330224</td>\n",
       "    </tr>\n",
       "    <tr>\n",
       "      <th>1</th>\n",
       "      <td>1</td>\n",
       "      <td>0.534994</td>\n",
       "      <td>-0.701450</td>\n",
       "      <td>line1</td>\n",
       "      <td>40.643777</td>\n",
       "    </tr>\n",
       "    <tr>\n",
       "      <th>2</th>\n",
       "      <td>2</td>\n",
       "      <td>0.771966</td>\n",
       "      <td>-0.186166</td>\n",
       "      <td>line2</td>\n",
       "      <td>25.021346</td>\n",
       "    </tr>\n",
       "    <tr>\n",
       "      <th>3</th>\n",
       "      <td>3</td>\n",
       "      <td>1.257691</td>\n",
       "      <td>-0.944950</td>\n",
       "      <td>line1</td>\n",
       "      <td>34.727850</td>\n",
       "    </tr>\n",
       "    <tr>\n",
       "      <th>4</th>\n",
       "      <td>4</td>\n",
       "      <td>0.366914</td>\n",
       "      <td>-0.553074</td>\n",
       "      <td>line1</td>\n",
       "      <td>58.635551</td>\n",
       "    </tr>\n",
       "    <tr>\n",
       "      <th>...</th>\n",
       "      <td>...</td>\n",
       "      <td>...</td>\n",
       "      <td>...</td>\n",
       "      <td>...</td>\n",
       "      <td>...</td>\n",
       "    </tr>\n",
       "    <tr>\n",
       "      <th>95</th>\n",
       "      <td>95</td>\n",
       "      <td>-0.529216</td>\n",
       "      <td>0.076436</td>\n",
       "      <td>line2</td>\n",
       "      <td>46.607538</td>\n",
       "    </tr>\n",
       "    <tr>\n",
       "      <th>96</th>\n",
       "      <td>96</td>\n",
       "      <td>-1.723991</td>\n",
       "      <td>0.084552</td>\n",
       "      <td>line2</td>\n",
       "      <td>62.455377</td>\n",
       "    </tr>\n",
       "    <tr>\n",
       "      <th>97</th>\n",
       "      <td>97</td>\n",
       "      <td>-0.346931</td>\n",
       "      <td>-1.325357</td>\n",
       "      <td>line1</td>\n",
       "      <td>66.827212</td>\n",
       "    </tr>\n",
       "    <tr>\n",
       "      <th>98</th>\n",
       "      <td>98</td>\n",
       "      <td>0.405414</td>\n",
       "      <td>1.357542</td>\n",
       "      <td>line1</td>\n",
       "      <td>28.941951</td>\n",
       "    </tr>\n",
       "    <tr>\n",
       "      <th>99</th>\n",
       "      <td>99</td>\n",
       "      <td>-0.566726</td>\n",
       "      <td>0.694118</td>\n",
       "      <td>line1</td>\n",
       "      <td>95.782394</td>\n",
       "    </tr>\n",
       "  </tbody>\n",
       "</table>\n",
       "<p>100 rows × 5 columns</p>\n",
       "</div>"
      ],
      "text/plain": [
       "    patient_id  feature1  feature2 treatment_line  drug_response\n",
       "0            0 -1.629874 -1.416849          line2      12.330224\n",
       "1            1  0.534994 -0.701450          line1      40.643777\n",
       "2            2  0.771966 -0.186166          line2      25.021346\n",
       "3            3  1.257691 -0.944950          line1      34.727850\n",
       "4            4  0.366914 -0.553074          line1      58.635551\n",
       "..         ...       ...       ...            ...            ...\n",
       "95          95 -0.529216  0.076436          line2      46.607538\n",
       "96          96 -1.723991  0.084552          line2      62.455377\n",
       "97          97 -0.346931 -1.325357          line1      66.827212\n",
       "98          98  0.405414  1.357542          line1      28.941951\n",
       "99          99 -0.566726  0.694118          line1      95.782394\n",
       "\n",
       "[100 rows x 5 columns]"
      ]
     },
     "execution_count": 7,
     "metadata": {},
     "output_type": "execute_result"
    }
   ],
   "source": [
    "df"
   ]
  },
  {
   "cell_type": "code",
   "execution_count": 3,
   "metadata": {},
   "outputs": [],
   "source": [
    "# Step 2: Compute Similarity Networks\n",
    "def compute_similarity_network(df, treatment_line):\n",
    "    sub_df = df[df['treatment_line'] == treatment_line]\n",
    "    patient_ids = sub_df['patient_id'].values\n",
    "    features = sub_df[['feature1', 'feature2']].values\n",
    "    similarity_matrix = np.exp(-np.linalg.norm(features[:, np.newaxis] - features, axis=2))  # Gaussian similarity\n",
    "    G = nx.Graph()\n",
    "    for i, pid in enumerate(patient_ids):\n",
    "        for j, pid2 in enumerate(patient_ids):\n",
    "            if i != j:\n",
    "                G.add_edge(pid, pid2, weight=similarity_matrix[i, j])\n",
    "    return G\n",
    "\n",
    "networks = {line: compute_similarity_network(df, line) for line in df['treatment_line'].unique()}\n"
   ]
  },
  {
   "cell_type": "code",
   "execution_count": 4,
   "metadata": {},
   "outputs": [
    {
     "name": "stdout",
     "output_type": "stream",
     "text": [
      "Epoch 0, Loss: 7.00840425491333\n",
      "Epoch 10, Loss: 5.685626983642578\n",
      "Epoch 20, Loss: 4.640421390533447\n",
      "Epoch 30, Loss: 3.954914093017578\n",
      "Epoch 40, Loss: 3.4252443313598633\n",
      "Epoch 50, Loss: 3.0368330478668213\n",
      "Epoch 60, Loss: 2.7442824840545654\n",
      "Epoch 70, Loss: 2.5792932510375977\n",
      "Epoch 80, Loss: 2.396108865737915\n",
      "Epoch 90, Loss: 2.3143460750579834\n",
      "Epoch 0, Loss: 7.294952392578125\n",
      "Epoch 10, Loss: 5.888785362243652\n",
      "Epoch 20, Loss: 4.818312644958496\n",
      "Epoch 30, Loss: 4.032665729522705\n",
      "Epoch 40, Loss: 3.48004150390625\n",
      "Epoch 50, Loss: 3.0650224685668945\n",
      "Epoch 60, Loss: 2.7643847465515137\n",
      "Epoch 70, Loss: 2.5800018310546875\n",
      "Epoch 80, Loss: 2.4596352577209473\n",
      "Epoch 90, Loss: 2.33793306350708\n"
     ]
    }
   ],
   "source": [
    "# Step 3: Graph Embedding with PyTorch Geometric Node2Vec\n",
    "def get_node2vec_embeddings(G, node_ids):\n",
    "    data = from_networkx(G)\n",
    "    node2vec = Node2Vec(data.edge_index, embedding_dim=64, walk_length=30, context_size=10, walks_per_node=10, num_negative_samples=1, sparse=True)\n",
    "    device = 'cuda' if torch.cuda.is_available() else 'cpu'\n",
    "    node2vec = node2vec.to(device)\n",
    "    data = data.to(device)\n",
    "\n",
    "    optimizer = torch.optim.SparseAdam(list(node2vec.parameters()), lr=0.01)\n",
    "\n",
    "    def train():\n",
    "        node2vec.train()\n",
    "        loader = node2vec.loader(batch_size=64, shuffle=True, num_workers=0)\n",
    "        total_loss = 0\n",
    "        for pos_rw, neg_rw in loader:\n",
    "            optimizer.zero_grad()\n",
    "            loss = node2vec.loss(pos_rw.to(device), neg_rw.to(device))\n",
    "            loss.backward()\n",
    "            optimizer.step()\n",
    "            total_loss += loss.item()\n",
    "        return total_loss / len(loader)\n",
    "\n",
    "    for epoch in range(100):  # Adjust the number of epochs based on your needs\n",
    "        loss = train()\n",
    "        if epoch % 10 == 0:\n",
    "            print(f'Epoch {epoch}, Loss: {loss}')\n",
    "\n",
    "    embeddings = node2vec.embedding.weight.detach().cpu().numpy()\n",
    "    node_id_map = {str(i): node_ids[i] for i in range(len(node_ids))}\n",
    "    return {node_id_map[str(i)]: embeddings[i] for i in range(len(node_ids))}\n",
    "\n",
    "embeddings = {line: get_node2vec_embeddings(networks[line], node_ids=list(networks[line].nodes)) for line in networks}\n"
   ]
  },
  {
   "cell_type": "code",
   "execution_count": 5,
   "metadata": {},
   "outputs": [
    {
     "name": "stdout",
     "output_type": "stream",
     "text": [
      "Mean Squared Error: 1002.3182316298896\n",
      "R-squared: 0.022561448689314423\n",
      "Mean Squared Error: 1002.3182316298896\n",
      "R-squared: 0.022561448689314423\n"
     ]
    }
   ],
   "source": [
    "# Step 4: Model Training\n",
    "trained_models = {}\n",
    "for line in set(df['treatment_line']):\n",
    "    sub_df = df[df['treatment_line'] == 'line1'].reset_index(drop=True)\n",
    "    X = np.array([embeddings['line1'][pid] for pid in sub_df['patient_id']])\n",
    "    y = sub_df['drug_response'].values\n",
    "    X_train, X_test, y_train, y_test = train_test_split(X, y, test_size=0.2, random_state=42)\n",
    "\n",
    "    # Initialize and train a linear regression model\n",
    "    model = LinearRegression()\n",
    "    model.fit(X_train, y_train)\n",
    "\n",
    "    # Make predictions on the test set\n",
    "    y_pred = model.predict(X_test)\n",
    "\n",
    "    # Evaluate the model\n",
    "    mse = mean_squared_error(y_test, y_pred)\n",
    "    r2 = r2_score(y_test, y_pred)\n",
    "    print(f\"Mean Squared Error: {mse}\")\n",
    "    print(f\"R-squared: {r2}\")\n",
    "    trained_models[line] = model"
   ]
  },
  {
   "cell_type": "code",
   "execution_count": 6,
   "metadata": {},
   "outputs": [
    {
     "name": "stdout",
     "output_type": "stream",
     "text": [
      "Epoch 0, Loss: 7.388625144958496\n"
     ]
    },
    {
     "name": "stderr",
     "output_type": "stream",
     "text": [
      "/opt/anaconda3/envs/patstrat/lib/python3.12/site-packages/sklearn/base.py:493: UserWarning: X does not have valid feature names, but StandardScaler was fitted with feature names\n",
      "  warnings.warn(\n"
     ]
    },
    {
     "name": "stdout",
     "output_type": "stream",
     "text": [
      "Epoch 10, Loss: 5.863734245300293\n",
      "Epoch 20, Loss: 4.787424564361572\n",
      "Epoch 30, Loss: 3.9806394577026367\n",
      "Epoch 40, Loss: 3.457801103591919\n",
      "Epoch 50, Loss: 2.996295213699341\n",
      "Epoch 60, Loss: 2.670349359512329\n",
      "Epoch 70, Loss: 2.5353941917419434\n",
      "Epoch 80, Loss: 2.3866069316864014\n",
      "Epoch 90, Loss: 2.3503589630126953\n",
      "Predicted Drug Response for new patient: [77.919945]\n"
     ]
    }
   ],
   "source": [
    "# Step 5: Predict Drug Response for New Patient\n",
    "def preprocess_new_patient(new_patient_data, scaler):\n",
    "    features = np.array([new_patient_data['feature1'], new_patient_data['feature2']]).reshape(1, -1)\n",
    "    return scaler.transform(features)\n",
    "\n",
    "def add_new_patient_to_graph(G, new_patient_data, existing_patient_data):\n",
    "    new_patient_id = new_patient_data['patient_id']\n",
    "    G.add_node(new_patient_id)\n",
    "    new_patient_features = new_patient_data[['feature1', 'feature2']].values\n",
    "    for existing_patient_id in existing_patient_data.index:\n",
    "        existing_features = existing_patient_data.loc[existing_patient_id, ['feature1', 'feature2']].values\n",
    "        similarity = np.exp(-np.linalg.norm(new_patient_features - existing_features))\n",
    "        G.add_edge(new_patient_id, existing_patient_id, weight=similarity)\n",
    "    return G\n",
    "\n",
    "new_patient_data = {\n",
    "    'patient_id': 101,\n",
    "    'feature1': 0.5,\n",
    "    'feature2': 0.3,\n",
    "    'treatment_line': 'line1'\n",
    "}\n",
    "new_patient_df = pd.DataFrame([new_patient_data])\n",
    "new_patient_df[['feature1', 'feature2']] = preprocess_new_patient(new_patient_data, scaler)\n",
    "\n",
    "existing_patient_data = df[df['treatment_line'] == new_patient_data['treatment_line']]\n",
    "existing_patient_data.set_index('patient_id', inplace=True)\n",
    "G = networks[new_patient_data['treatment_line']]\n",
    "G = add_new_patient_to_graph(G, new_patient_df.iloc[0], existing_patient_data)\n",
    "\n",
    "new_embeddings = get_node2vec_embeddings(G, node_ids=list(G.nodes))\n",
    "new_patient_embedding = new_embeddings[new_patient_data['patient_id']]\n",
    "\n",
    "model = trained_models[new_patient_data['treatment_line']]  \n",
    "predicted_response = model.predict(new_patient_embedding.reshape(1, -1))\n",
    "\n",
    "print(f\"Predicted Drug Response for new patient: {predicted_response}\")"
   ]
  },
  {
   "cell_type": "code",
   "execution_count": 16,
   "metadata": {},
   "outputs": [
    {
     "name": "stdout",
     "output_type": "stream",
     "text": [
      "Drug Response Table:\n",
      "        Patient 1  Patient 2  Patient 3  Patient 4  Patient 5  Patient 6  \\\n",
      "Drug 1  -0.974297  -0.940550   0.618461   0.727336  -0.579446   0.078219   \n",
      "Drug 2  -0.234705   0.889352   0.892639  -0.037002  -0.903105   0.603512   \n",
      "Drug 3  -0.755804   0.327242   0.173670   0.519401  -0.118027   0.790353   \n",
      "Drug 4  -0.839520  -0.727004   0.543778  -0.775202  -0.141655  -0.411415   \n",
      "Drug 5   0.982055   0.459872   0.003196  -0.316212   0.414649   0.720802   \n",
      "\n",
      "        Patient 7  Patient 8  Patient 9  Patient 10  \n",
      "Drug 1  -0.205206   0.175180   0.384192   -0.816897  \n",
      "Drug 2  -0.442170   0.851987  -0.724768    0.354461  \n",
      "Drug 3   0.318289  -0.556701  -0.584866    0.138814  \n",
      "Drug 4  -0.949655   0.970551   0.126665   -0.816792  \n",
      "Drug 5   0.182773  -0.139982  -0.357110    0.363506  \n"
     ]
    },
    {
     "data": {
      "image/png": "[encoded data removed]",
      "text/plain": [
       "<Figure size 1000x800 with 4 Axes>"
      ]
     },
     "metadata": {},
     "output_type": "display_data"
    }
   ],
   "source": [
    "import numpy as np\n",
    "import pandas as pd\n",
    "import seaborn as sns\n",
    "import matplotlib.pyplot as plt\n",
    "\n",
    "# Define the drugs and patients\n",
    "drugs = ['Drug 1', 'Drug 2', 'Drug 3', 'Drug 4', 'Drug 5']\n",
    "patients = [f'Patient {i}' for i in range(1, 11)]\n",
    "\n",
    "# Generate random drug response values between -1 and 1\n",
    "responses = np.random.uniform(-1, 1, size=(len(drugs), len(patients)))\n",
    "\n",
    "# Create a DataFrame\n",
    "response_df = pd.DataFrame(responses, index=drugs, columns=patients)\n",
    "\n",
    "# Display the DataFrame\n",
    "print(\"Drug Response Table:\")\n",
    "print(response_df)\n",
    "\n",
    "# Create a clustergram (clustermap) with customized colorbar\n",
    "clustermap = sns.clustermap(response_df, cmap='coolwarm', center=0, figsize=(10, 8))\n",
    "\n",
    "# Display the plot\n",
    "plt.title(\"Drug Responses\")\n",
    "plt.show()\n"
   ]
  },
  {
   "cell_type": "code",
   "execution_count": 59,
   "metadata": {},
   "outputs": [
    {
     "data": {
      "image/png": "[encoded data removed]",
      "text/plain": [
       "<Figure size 300x500 with 4 Axes>"
      ]
     },
     "metadata": {},
     "output_type": "display_data"
    }
   ],
   "source": [
    "# Define a custom colormap (blue, yellow, orange)\n",
    "custom_cmap = LinearSegmentedColormap.from_list('custom_cmap', ['turquoise', 'silver', 'lightcoral'])\n",
    "\n",
    "# Create a clustergram (clustermap) with customized colorbar\n",
    "clustermap = sns.clustermap(response_df, cmap=custom_cmap, center=0, figsize=(3, 5), linewidths=0.5, linecolor='white')\n",
    "\n",
    "# Customize the colorbar to be horizontal and placed below the plot\n",
    "\n",
    "# Adjust the title position if needed\n",
    "plt.title(\"Drug Responses\", pad=10)\n",
    "\n",
    "# Display the plot\n",
    "plt.show()\n"
   ]
  },
  {
   "cell_type": "code",
   "execution_count": 60,
   "metadata": {},
   "outputs": [],
   "source": [
    "from sklearn.decomposition import TruncatedSVD\n",
    "import numpy as np\n",
    "\n",
    "# Generate a random data matrix X of size (m x n)\n",
    "m, n = 1000, 1500\n",
    "X = np.random.randn(m, n)"
   ]
  },
  {
   "cell_type": "code",
   "execution_count": 63,
   "metadata": {},
   "outputs": [],
   "source": [
    "k = 10  # number of singular vectors to keep\n",
    "U, S, Vt = np.linalg.svd(X)\n",
    "X_approx = U[:, :k] @ np.diag(S[:k]) @ Vt[:k, :] # fit data to the model"
   ]
  },
  {
   "cell_type": "code",
   "execution_count": 64,
   "metadata": {},
   "outputs": [
    {
     "name": "stdout",
     "output_type": "stream",
     "text": [
      "Relative approximation error: 0.98\n"
     ]
    }
   ],
   "source": [
    "approx_error = np.linalg.norm(X - X_approx) / np.linalg.norm(X)\n",
    "print(f'Relative approximation error: {approx_error:.2f}')"
   ]
  },
  {
   "cell_type": "code",
   "execution_count": 65,
   "metadata": {},
   "outputs": [],
   "source": [
    "Vk = Vt[:k, :]"
   ]
  },
  {
   "cell_type": "code",
   "execution_count": 66,
   "metadata": {},
   "outputs": [],
   "source": [
    "feature_importance = np.abs(Vk).sum(axis=0)\n"
   ]
  },
  {
   "cell_type": "code",
   "execution_count": 67,
   "metadata": {},
   "outputs": [
    {
     "data": {
      "text/plain": [
       "array([0.24640072, 0.2179159 , 0.15939925, ..., 0.28054036, 0.16423892,\n",
       "       0.24315955])"
      ]
     },
     "execution_count": 67,
     "metadata": {},
     "output_type": "execute_result"
    }
   ],
   "source": [
    "feature_importance"
   ]
  },
  {
   "cell_type": "code",
   "execution_count": 68,
   "metadata": {},
   "outputs": [
    {
     "ename": "NameError",
     "evalue": "name 'feature_names' is not defined",
     "output_type": "error",
     "traceback": [
      "\u001b[0;31m---------------------------------------------------------------------------\u001b[0m",
      "\u001b[0;31mNameError\u001b[0m                                 Traceback (most recent call last)",
      "Cell \u001b[0;32mIn[68], line 4\u001b[0m\n\u001b[1;32m      1\u001b[0m sorted_idx \u001b[38;5;241m=\u001b[39m np\u001b[38;5;241m.\u001b[39margsort(feature_importance)[::\u001b[38;5;241m-\u001b[39m\u001b[38;5;241m1\u001b[39m]\n\u001b[1;32m      3\u001b[0m \u001b[38;5;66;03m# Save the names of the top 10 most frequent features in a list\u001b[39;00m\n\u001b[0;32m----> 4\u001b[0m top_features \u001b[38;5;241m=\u001b[39m [\u001b[43mfeature_names\u001b[49m[i] \u001b[38;5;28;01mfor\u001b[39;00m i \u001b[38;5;129;01min\u001b[39;00m sorted_idx[:\u001b[38;5;241m10\u001b[39m]]\n",
      "\u001b[0;31mNameError\u001b[0m: name 'feature_names' is not defined"
     ]
    }
   ],
   "source": [
    "sorted_idx = np.argsort(feature_importance)[::-1]\n",
    "\n",
    "# Save the names of the top 10 most frequent features in a list\n",
    "top_features = [feature_names[i] for i in sorted_idx[:10]]"
   ]
  },
  {
   "cell_type": "code",
   "execution_count": null,
   "metadata": {},
   "outputs": [],
   "source": []
  }
 ],
 "metadata": {
  "kernelspec": {
   "display_name": "patstrat",
   "language": "python",
   "name": "python3"
  },
  "language_info": {
   "codemirror_mode": {
    "name": "ipython",
    "version": 3
   },
   "file_extension": ".py",
   "mimetype": "text/x-python",
   "name": "python",
   "nbconvert_exporter": "python",
   "pygments_lexer": "ipython3",
   "version": "3.12.3"
  }
 },
 "nbformat": 4,
 "nbformat_minor": 2
}
